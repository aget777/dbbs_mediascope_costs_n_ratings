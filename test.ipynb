{
 "cells": [
  {
   "cell_type": "code",
   "execution_count": 56,
   "id": "b8a78c4f-5230-4ff0-b3ea-aaff4beac49d",
   "metadata": {},
   "outputs": [],
   "source": [
    "import requests\n",
    "import pandas as pd\n",
    "import numpy as np\n",
    "import os\n",
    "from datetime import datetime, date, timedelta\n",
    "from dateutil.relativedelta import relativedelta\n",
    "import time\n",
    "import pyarrow as pa\n",
    "from urllib.parse import quote_plus\n",
    "from pandas.api.types import is_string_dtype\n",
    "import gc\n",
    "import warnings\n",
    "\n",
    "import config\n",
    "import config_media_costs\n",
    "from normalize_funcs import normalize_columns_types, append_custom_columns\n",
    "from db_funcs import createDBTable, downloadTableToDB, get_mssql_table, removeRowsFromDB\n",
    "from create_dicts import get_cleaning_dict, get_media_discounts\n",
    "# from create_dicts_adex import get_adex_dicts\n",
    "\n",
    "db_name = config.db_name"
   ]
  },
  {
   "cell_type": "code",
   "execution_count": 57,
   "id": "af4a8676-b343-4660-8ad5-7e623f01ab3b",
   "metadata": {},
   "outputs": [],
   "source": [
    "# Включаем отображение всех колонок\n",
    "pd.set_option('display.max_columns', None)\n",
    "# Задаем ширину столбцов по контенту\n",
    "pd.set_option('display.max_colwidth', None)\n",
    "pd.set_option('display.max_rows', None)\n",
    "\n",
    "warnings.simplefilter(action='ignore', category=FutureWarning)\n",
    "# убираем лишние предупреждения\n",
    "pd.set_option('mode.chained_assignment', None)"
   ]
  },
  {
   "cell_type": "code",
   "execution_count": 58,
   "id": "5f1e7387-9ed6-43f5-941f-eebe4c180284",
   "metadata": {},
   "outputs": [],
   "source": [
    "# создаем функцию, которая вернет номер месяца от начальной даты отсчета\n",
    "def get_mon_num_from_date(curr_date):\n",
    "    curr_date = datetime.strptime(str(curr_date), '%Y-%m-%d')\n",
    "    # с помощью метода relativedelta получаем кол-во лет и месяцев от даты начала до текущей даты\n",
    "    relative_date = relativedelta(curr_date, config_media_costs.start_of_the_time)\n",
    "    # теперь нужно получить номер текущего месяца от даты начала\n",
    "    months_count = relative_date.years * 12 + relative_date.months\n",
    "    \n",
    "    return months_count"
   ]
  },
  {
   "cell_type": "code",
   "execution_count": 4,
   "id": "adec568f-492e-4ee2-a40f-0781097cad29",
   "metadata": {},
   "outputs": [
    {
     "name": "stdout",
     "output_type": "stream",
     "text": [
      "360\n"
     ]
    }
   ],
   "source": [
    "start_date = '2020-01-01'\n",
    "mon_num = get_mon_num_from_date(start_date)\n",
    "print(mon_num)"
   ]
  },
  {
   "cell_type": "code",
   "execution_count": 59,
   "id": "cd7a85cd-a494-4a74-b209-d028fb040725",
   "metadata": {},
   "outputs": [],
   "source": [
    "# создаем фильтр, который будем применять во воложенном запросе для фильтрации ВСЕХ ТАБЛИЦ по ВСЕМ ИСТОЧНИКАМ\n",
    "# этот фильтр используем в ТВ, Радио, ООН, Пресса\n",
    "# Префикс для фильтруемой таблицы задан с запасом = t10\n",
    "main_filter_str = f't10.sid2 in (2272,2277)'"
   ]
  },
  {
   "cell_type": "code",
   "execution_count": 60,
   "id": "7b2e1033-21b0-40cb-8f93-4aa383c7ed00",
   "metadata": {},
   "outputs": [],
   "source": [
    "first_row_query_dict = {\n",
    "    'tv': 't1.vid, t1.cid, t1.distr, t1.mon, t1.from_mon, t1.estat, t1.cnd_cost_rub,  t1.vol, t1.cnt'\n",
    "}"
   ]
  },
  {
   "cell_type": "code",
   "execution_count": 9,
   "id": "41f1509c-3e0b-4f01-9ebb-8d4fdf1c2b9b",
   "metadata": {},
   "outputs": [
    {
     "name": "stdout",
     "output_type": "stream",
     "text": [
      "Все ок. Подключились!\n",
      "Загрузка завершена успешно\n"
     ]
    }
   ],
   "source": [
    "media_type = 'tv'\n",
    "query = f\"\"\"select \n",
    "distinct t3.sbid\n",
    "from {media_type}_Ad_month t1 left join {media_type}_Appendix t10 \n",
    "on t1.vid=t10.vid\n",
    "left join tv_Appendix t3\n",
    "on t1.vid=t3.vid\n",
    "where t1.mon>={str(mon_num)}  and \n",
    "({main_filter_str})\"\"\"\n",
    "# отправляем запрос в БД Медиа инвестиции\n",
    "\n",
    "df = get_mssql_table(config.investments_db_name, query=query, conn_lst=config.conn_lst)"
   ]
  },
  {
   "cell_type": "code",
   "execution_count": 10,
   "id": "dc01cc10-0164-4c36-a5f4-de8976901039",
   "metadata": {},
   "outputs": [
    {
     "data": {
      "text/plain": [
       "(852, 1)"
      ]
     },
     "execution_count": 10,
     "metadata": {},
     "output_type": "execute_result"
    }
   ],
   "source": [
    "df.shape"
   ]
  },
  {
   "cell_type": "code",
   "execution_count": 12,
   "id": "2462af38-0435-4829-855a-bfb25478bfb7",
   "metadata": {},
   "outputs": [],
   "source": [
    "file_path = r'C:\\Users\\o.bogomolov\\Downloads\\Telegram'\n",
    "file_name = 'subbrand_id.xlsx'\n",
    "df.to_excel(os.path.join(file_path, file_name))"
   ]
  },
  {
   "cell_type": "code",
   "execution_count": null,
   "id": "66541a6e-0f3b-4d98-b973-07ff87570e18",
   "metadata": {},
   "outputs": [],
   "source": [
    "import os\n",
    "import pandas as pd\n",
    "\n",
    "file_path = r'C:\\Users\\o.bogomolov\\Downloads\\Telegram'\n",
    "file_name = 'simple_02_01_2023.xlsx'\n",
    "df.to_excel(os.path.join(file_path, file_name))"
   ]
  },
  {
   "cell_type": "code",
   "execution_count": null,
   "id": "b07e09ed-a987-41b5-a670-89f37290d23e",
   "metadata": {},
   "outputs": [],
   "source": []
  },
  {
   "cell_type": "code",
   "execution_count": 61,
   "id": "71b2e9b1-7ac3-4cbc-90ab-2ea3db5ddf87",
   "metadata": {},
   "outputs": [],
   "source": [
    "import os\n",
    "import gc\n",
    "import sys\n",
    "import re\n",
    "import json\n",
    "from datetime import datetime, date, timedelta, time\n",
    "import time\n",
    "from dateutil.relativedelta import relativedelta\n",
    "import warnings\n",
    "import pandas as pd\n",
    "import numpy as np\n",
    "\n",
    "from sqlalchemy import create_engine\n",
    "import pyodbc\n",
    "import turbodbc\n",
    "from turbodbc import connect\n",
    "\n",
    "from IPython.display import JSON\n",
    "from mediascope_api.core import net as mscore\n",
    "from mediascope_api.mediavortex import tasks as cwt\n",
    "from mediascope_api.mediavortex import catalogs as cwc"
   ]
  },
  {
   "cell_type": "code",
   "execution_count": 62,
   "id": "44459b43-4e7c-4a40-80b4-a2fcc7a782c6",
   "metadata": {},
   "outputs": [
    {
     "name": "stdout",
     "output_type": "stream",
     "text": [
      "Запрошены записи: 0 - 314\n",
      "Всего найдено записей: 314\n",
      "\n",
      "Запрошены записи: 0 - 314\n",
      "Всего найдено записей: 314\n",
      "\n"
     ]
    }
   ],
   "source": [
    "# добавляем библиотеки для работы с ТВ индексом\n",
    "\n",
    "%reload_ext autoreload\n",
    "%autoreload 2\n",
    "\n",
    "import sys\n",
    "import os\n",
    "import re\n",
    "import json\n",
    "import time\n",
    "import pandas as pd\n",
    "import numpy as np\n",
    "from IPython.display import JSON\n",
    "\n",
    "from mediascope_api.core import net as mscore\n",
    "from mediascope_api.mediavortex import tasks as cwt\n",
    "from mediascope_api.mediavortex import catalogs as cwc\n",
    "\n",
    "# Включаем отображение всех колонок\n",
    "pd.set_option('display.max_columns', None)\n",
    "\n",
    "# Cоздаем объекты для работы с TVI API\n",
    "mnet = mscore.MediascopeApiNetwork()\n",
    "mtask = cwt.MediaVortexTask()\n",
    "cats = cwc.MediaVortexCats()"
   ]
  },
  {
   "cell_type": "code",
   "execution_count": 63,
   "id": "ca903cb1-e3ae-4a73-b527-1bb0fc4c158e",
   "metadata": {},
   "outputs": [],
   "source": [
    "# Статистики для отчета Buying\n",
    "nat_tv_bying_statistics = ['SalesRtgPer', 'StandSalesRtgPer', 'ConsolidatedCostRUB', 'Quantity']"
   ]
  },
  {
   "cell_type": "code",
   "execution_count": 64,
   "id": "99499599-36e3-460d-a206-5050334ad795",
   "metadata": {},
   "outputs": [],
   "source": [
    "nat_tv_buying_slices = nat_tv_slices = [\n",
    "    \n",
    "    #'articleLevel3Id', 'articleLevel4Id',\n",
    "    'advertiserListId', #Список рекламодателей id\n",
    "    'advertiserListName', \n",
    "    'brandListId', #Список брендов id\n",
    "    'brandListName', \n",
    "    'brandId', #Список брендов id\n",
    "    'brandName',\n",
    "    'subbrandListId', #Список суббрендов id\n",
    "    'subbrandListName', \n",
    "    'subbrandId', #Список суббрендов id\n",
    "    'subbrandName',\n",
    "    'modelListId', #Список продуктов id\n",
    "    # 'modelListName',\n",
    "    'articleList2Id', #Список товарных категорий 2 id\n",
    "    'articleList2Name',\n",
    "    'articleLevel2Id',\n",
    "    'articleLevel2Name',\n",
    "    # 'articleList3Id', #Список товарных категорий 3 id\n",
    "    # # 'articleList3Name',\n",
    "    # 'articleList4Id', #Список товарных категорий 4 id\n",
    "    # 'articleList4Name', \n",
    "    'adId',\n",
    "    'adName',\n",
    "    # 'adNotes',\n",
    "    # 'adFirstIssueDate',\n",
    "    # 'adSloganAudioId', #Ролик аудио слоган id\n",
    "    # # 'adSloganAudioName',\n",
    "    # 'adSloganVideoId', #Ролик видео слоган id\n",
    "    # 'adSloganVideoName',\n",
    "    'researchDate',\n",
    "    # 'regionId', # ИД Региона или Сетевое вещание\n",
    "    # # 'regionName',\n",
    "    # 'adDistributionTypeName',\n",
    "    # # 'tvNetId', # id телесети\n",
    "    # # 'tvNetName',\n",
    "    'tvCompanyId',\n",
    "    # # 'tvCompanyName',\n",
    "    # 'adTypeId', #Ролик тип ID \n",
    "    # # 'adTypeName',\n",
    "    # 'adStandardDuration', \n",
    "    # # 'adPositionType', #Ролик позиционирование id \n",
    "    # 'adPositionTypeName',\n",
    "    # # 'adPrimeTimeStatusId', #Прайм/ОфПрайм роликов id\n",
    "    # 'adPrimeTimeStatusName',\n",
    "    # 'adStartTime',\n",
    "    'adSpotId'\n",
    "         ]"
   ]
  },
  {
   "cell_type": "code",
   "execution_count": 67,
   "id": "a3a0ae9b-e2a4-4462-be21-1adc738dc98c",
   "metadata": {},
   "outputs": [
    {
     "name": "stdout",
     "output_type": "stream",
     "text": [
      "articleLevel2Id IN (2277, 2272, 3972, -11, -126) and adIssueStatusId = R and adDistributionType IN (N,O) and adId in (4721298)\n"
     ]
    }
   ],
   "source": [
    "ad_filter = config.nat_tv_ad_filter + ' and adId in (4721298)' # ad_filter\n",
    "print(ad_filter) "
   ]
  },
  {
   "cell_type": "code",
   "execution_count": 48,
   "id": "c0b4b72f-d64f-4d97-af4d-0d3c7ca9397d",
   "metadata": {},
   "outputs": [
    {
     "name": "stdout",
     "output_type": "stream",
     "text": [
      "Все ок. Подключились!\n",
      "Загрузка завершена успешно\n",
      "articleLevel2Id IN (2277, 2272, 3972, -11, -126) and adIssueStatusId = R and adDistributionType IN (N,O) and adId in (4571350, 4571551, 4573069, 4573103, 4573233, 4573767, 4189721) AND subbrandId IN (716787, 721281, 581493, 618542, 152306, 889350, 853186, 45840, 850029, 1018055, 26118, 313116, 1025732, 427394, 1233495, 499150, 15447, 1110175, 1068601, 999255, 1248844, 1143271, 1077870, 628001, 843000, 992658, 814204, 35159, 120838, 1006538, 1144677, 168157, 898953, 641773, 766639, 993846, 14129, 1091794, 342189, 1214012, 1154130, 1237762, 782904, 1044140, 842612, 319479, 1008039, 419828, 1083296, 845183, 1095722, 13632, 400724, 1135270, 881376, 1202466, 1066860, 1139240, 924379, 298109, 831750, 15785, 946729, 666970, 617610, 642588, 894570, 926701, 1124041, 1266357, 9998, 298187, 1035105, 1050465, 930337, 800310, 1151049, 1255632, 529614, 18973, 1081578, 44778, 888675, 75455, 758236, 332486, 945907, 400444, 939229, 1201756, 1127982, 884170, 1088884, 602940, 17723, 930313, 1039896, 862954, 1021849, 1255949, 1207608, 1178136, 1129243, 1169635, 919385, 1143515, 406528, 747787, 29712, 41809, 1088854, 1026942, 75778, 748520, 174186, 1145791, 695167, 1132816, 999108, 1157041, 498551, 298185, 18329, 930252, 795591, 298111, 919833, 1004387, 470534, 392329, 1097726, 970361, 1134872, 872285, 1124642, 1064894, 929231, 986898, 1077131, 1085335, 1068086, 938265, 753717, 418132, 1114807, 480937, 357789, 1061660, 213587, 74781, 652198, 833377, 1143770, 803038, 1085559, 449634, 1123272, 791580, 1246441, 155695, 946874, 13723, 84775, 278683, 1058853, 888377, 33311, 756441, 839495, 1143150, 25866, 3462, 1235782, 837114, 786291, 18444, 907061, 961462, 83070, 633113, 121902, 597404, 1243611, 668742, 1202741, 1169634, 910823, 1265913, 138430, 117683, 1238972, 416283, 80792, 1072217, 787377, 388317, 40732, 951862, 1030829, 1145974, 1063318, 347387, 981400, 730160, 926049, 1138357, 941257, 11945, 1035876, 32618, 546717, 136645, 160183, 201, 966499, 25379, 1103828, 831675, 1112745, 983130, 1220021, 973956, 69510, 328662, 656725, 604557, 918880, 154299, 694, 982644, 955322, 13315, 1254062, 494058, 1095004, 793333, 996659, 1083941, 1169291, 4791, 876236, 376234, 1004019, 273627, 131286, 68040, 971848, 706788, 985920, 993039, 945236, 771986, 927211, 10170, 1170434, 945328, 997436, 844567, 1121535, 1003645, 582876, 672537, 457558, 985128, 1013807, 1053847, 1077697, 782687, 39921, 107724, 1148125, 31245, 97162, 1081559, 499554, 968747, 859791, 1004013, 4639, 1019874, 94512, 1080681, 782740, 601518, 1250831, 1018377, 1042954, 266975, 126317, 119862, 9151, 94066, 557248, 606428, 517231, 866204, 1077327, 12375, 12833, 750799, 785, 942838, 32421, 1077093, 988589, 1098058, 945329, 1243980, 655855, 822126, 1075502, 548241, 118212, 574487, 47020, 809434, 298106, 444841, 1062684, 1045195, 1065258, 858251, 744005, 829272, 1097724, 1003681, 854865, 904852, 1128693, 920461, 1045121, 590466, 831837, 417583, 1225516, 266059, 52251, 1131490, 710495, 1134673, 392382, 4752, 1055455, 554191, 410430, 512863, 790120, 418127, 1245287, 1014187, 812373, 846007, 105754, 11027, 838004, 800191, 1053475, 863274, 1091188, 999687, 924433, 12576, 1027178, 1091429, 853705, 886755, 950645, 12625, 11520, 40156, 1067934, 674456, 996805, 4227, 230255, 1091982, 878798, 112926, 697307, 451743, 1047099, 1046481, 343036, 913394, 1045957, 1011579, 994204, 52274, 12709, 985634, 1005903, 560291, 1085557, 7500, 5545, 1191104, 1065351, 44543, 1207065, 1046024, 1171886, 1019575, 1032167, 165342, 1075135, 392332, 14966, 653997, 1113581, 1179094, 981336, 1988, 1209322, 1209213, 1051011, 437430, 846893, 1053015, 1118010, 1085003, 4167, 1014939, 924371, 1241717, 955406, 1143375, 946049, 918323)\n"
     ]
    }
   ],
   "source": [
    "from config_search_funcs import get_subbrand_id_str\n",
    "subbrand_id_str = get_subbrand_id_str(mon_num='360', media_type='tv')\n",
    "ad_filter = f'{base_filter} AND subbrandId IN ({subbrand_id_str})'\n",
    "# print(ad_filter)"
   ]
  },
  {
   "cell_type": "code",
   "execution_count": 68,
   "id": "c5296064-4c53-4a57-a27b-c2761040dd5f",
   "metadata": {},
   "outputs": [],
   "source": [
    "import config_tv_index\n",
    "# список срезов, по которым будет разбивка отчета\n",
    "slices = nat_tv_buying_slices#config.nat_tv_buying_slices\n",
    "# список метрик для отчета Simple\n",
    "statistics = nat_tv_bying_statistics\n",
    "# Здесь указаны логические условия ad_filter \n",
    "# Они применяются для получения статистики в отчетах Simple и Buying# условия фильтрации для запроса \n",
    "ad_filter = ad_filter  #config.nat_tv_ad_filter\n",
    "# Опции для расчета - вся рф и тд.\n",
    "options = config_tv_index.nat_tv_options"
   ]
  },
  {
   "cell_type": "code",
   "execution_count": 69,
   "id": "27adc361-5e07-4c64-8c95-4af909c3b806",
   "metadata": {},
   "outputs": [],
   "source": [
    "weekday_filter = None\n",
    "# Задаем тип дня\n",
    "daytype_filter = None\n",
    "# Задаем временной интервал\n",
    "time_filter = None\n",
    "# Задаем ЦА\n",
    "basedemo_filter = None\n",
    "# Доп фильтр ЦА, нужен только в случае расчета отношения между ЦА, например, при расчете Affinity Index\n",
    "targetdemo_filter = None\n",
    "# Задаем место просмотра\n",
    "location_filter=None\n",
    "# Задаем каналы\n",
    "company_filter = None\n",
    "# Указываем фильтр программ: продолжительность от 5 минут (300 секунд) \n",
    "program_filter = None\n",
    "# Фильтр блоков\n",
    "break_filter = None\n",
    "sortings = None"
   ]
  },
  {
   "cell_type": "code",
   "execution_count": 70,
   "id": "0c2aeaba-069b-4417-a881-9786475eca45",
   "metadata": {},
   "outputs": [
    {
     "name": "stdout",
     "output_type": "stream",
     "text": [
      "start_date: 2024-12-01 / end_date: 2024-12-31\n"
     ]
    }
   ],
   "source": [
    "start_date = '2024-12-01'\n",
    "start_date = datetime.strptime(start_date, '%Y-%m-%d').date()\n",
    "\n",
    "end_date = '2024-12-31'\n",
    "end_date = datetime.strptime(end_date, '%Y-%m-%d').date()\n",
    "\n",
    "print(f'start_date: {start_date} / end_date: {end_date}')"
   ]
  },
  {
   "cell_type": "code",
   "execution_count": 71,
   "id": "32f6e77c-d04f-4229-ae5c-98ed855e2a2d",
   "metadata": {},
   "outputs": [],
   "source": [
    " date_filter = [(str(start_date), str(end_date))]"
   ]
  },
  {
   "cell_type": "code",
   "execution_count": 72,
   "id": "093eae71-fb57-4645-a26f-51c1b4d390e9",
   "metadata": {},
   "outputs": [
    {
     "name": "stdout",
     "output_type": "stream",
     "text": [
      "Расчет задачи (id: 7954d239-1837-402e-a96e-05e3a926cbbd) [= = = = = = = = = = = = = = = = = ] время расчета: 0:00:52.976290\n"
     ]
    }
   ],
   "source": [
    "# Посчитаем задания в цикле\n",
    "tasks = []\n",
    "# Формируем задание для API TV Index в формате JSON\n",
    "task_json = mtask.build_simple_task(date_filter=date_filter, weekday_filter=weekday_filter, \n",
    "                                    daytype_filter=daytype_filter, company_filter=company_filter, \n",
    "                                    location_filter=location_filter, basedemo_filter=basedemo_filter, \n",
    "                                    targetdemo_filter=targetdemo_filter,program_filter=program_filter, \n",
    "                                    break_filter=break_filter, ad_filter=ad_filter, \n",
    "                                    slices=slices, statistics=statistics, sortings=sortings, options=options)\n",
    "\n",
    "\n",
    "# Отправляем задание на расчет и ждем выполнения\n",
    "task_timeband = mtask.wait_task(mtask.send_simple_task(task_json))\n",
    "# Получаем результат\n",
    "df = mtask.result2table(mtask.get_result(task_timeband))"
   ]
  },
  {
   "cell_type": "code",
   "execution_count": 73,
   "id": "9948d475-8580-4ff4-aa4a-a13f177b0818",
   "metadata": {},
   "outputs": [
    {
     "data": {
      "text/plain": [
       "(383, 24)"
      ]
     },
     "execution_count": 73,
     "metadata": {},
     "output_type": "execute_result"
    }
   ],
   "source": [
    "df.shape"
   ]
  },
  {
   "cell_type": "code",
   "execution_count": 75,
   "id": "6332044d-40c7-411f-a374-2fa6992f84c8",
   "metadata": {},
   "outputs": [
    {
     "data": {
      "text/html": [
       "<div>\n",
       "<style scoped>\n",
       "    .dataframe tbody tr th:only-of-type {\n",
       "        vertical-align: middle;\n",
       "    }\n",
       "\n",
       "    .dataframe tbody tr th {\n",
       "        vertical-align: top;\n",
       "    }\n",
       "\n",
       "    .dataframe thead th {\n",
       "        text-align: right;\n",
       "    }\n",
       "</style>\n",
       "<table border=\"1\" class=\"dataframe\">\n",
       "  <thead>\n",
       "    <tr style=\"text-align: right;\">\n",
       "      <th></th>\n",
       "      <th>modelListId</th>\n",
       "      <th>tvCompanyId</th>\n",
       "      <th>articleList2Id</th>\n",
       "      <th>articleLevel2Id</th>\n",
       "      <th>advertiserListName</th>\n",
       "      <th>subbrandName</th>\n",
       "      <th>subbrandListId</th>\n",
       "      <th>articleLevel2Name</th>\n",
       "      <th>brandListName</th>\n",
       "      <th>adId</th>\n",
       "      <th>adName</th>\n",
       "      <th>subbrandListName</th>\n",
       "      <th>brandName</th>\n",
       "      <th>articleList2Name</th>\n",
       "      <th>subbrandId</th>\n",
       "      <th>brandId</th>\n",
       "      <th>advertiserListId</th>\n",
       "      <th>brandListId</th>\n",
       "      <th>adSpotId</th>\n",
       "      <th>researchDate</th>\n",
       "      <th>SalesRtgPer</th>\n",
       "      <th>StandSalesRtgPer</th>\n",
       "      <th>Quantity</th>\n",
       "      <th>ConsolidatedCostRUB</th>\n",
       "    </tr>\n",
       "  </thead>\n",
       "  <tbody>\n",
       "    <tr>\n",
       "      <th>0</th>\n",
       "      <td>907295</td>\n",
       "      <td>1871</td>\n",
       "      <td>3607</td>\n",
       "      <td>3972</td>\n",
       "      <td>СБЕР</td>\n",
       "      <td>СБЕР ПРАЙМ</td>\n",
       "      <td>730153</td>\n",
       "      <td>УСЛУГИ В ОБЛАСТИ ИНТЕРНЕТА</td>\n",
       "      <td>OKKO (КИНОТЕАТР); САМОКАТ (ДОСТАВКА); СБЕР</td>\n",
       "      <td>4721298</td>\n",
       "      <td>СБЕР ПРАЙМ подписка на сервисы (Лучше с ПРАЙМом, ВНЧ девушка встречает курьера) ВНЧ. 1 стр длиннее</td>\n",
       "      <td>OKKO.TV; САМОКАТ (ДОСТАВКА); СБЕР ПРАЙМ</td>\n",
       "      <td>СБЕР</td>\n",
       "      <td>СРЕДСТВА МАССОВОЙ ИНФОРМАЦИИ; УСЛУГИ В ОБЛАСТИ ИНТЕРНЕТА; УСЛУГИ В ОБЛАСТИ ТОРГОВЛИ</td>\n",
       "      <td>1081656</td>\n",
       "      <td>1054587</td>\n",
       "      <td>954</td>\n",
       "      <td>674985</td>\n",
       "      <td>6076222304</td>\n",
       "      <td>2024-12-20</td>\n",
       "      <td>0.236532</td>\n",
       "      <td>0.236532</td>\n",
       "      <td>1.0</td>\n",
       "      <td>18730.0</td>\n",
       "    </tr>\n",
       "  </tbody>\n",
       "</table>\n",
       "</div>"
      ],
      "text/plain": [
       "  modelListId tvCompanyId articleList2Id articleLevel2Id advertiserListName  \\\n",
       "0      907295        1871           3607            3972               СБЕР   \n",
       "\n",
       "  subbrandName subbrandListId           articleLevel2Name  \\\n",
       "0   СБЕР ПРАЙМ         730153  УСЛУГИ В ОБЛАСТИ ИНТЕРНЕТА   \n",
       "\n",
       "                                brandListName     adId  \\\n",
       "0  OKKO (КИНОТЕАТР); САМОКАТ (ДОСТАВКА); СБЕР  4721298   \n",
       "\n",
       "                                                                                               adName  \\\n",
       "0  СБЕР ПРАЙМ подписка на сервисы (Лучше с ПРАЙМом, ВНЧ девушка встречает курьера) ВНЧ. 1 стр длиннее   \n",
       "\n",
       "                          subbrandListName brandName  \\\n",
       "0  OKKO.TV; САМОКАТ (ДОСТАВКА); СБЕР ПРАЙМ      СБЕР   \n",
       "\n",
       "                                                                      articleList2Name  \\\n",
       "0  СРЕДСТВА МАССОВОЙ ИНФОРМАЦИИ; УСЛУГИ В ОБЛАСТИ ИНТЕРНЕТА; УСЛУГИ В ОБЛАСТИ ТОРГОВЛИ   \n",
       "\n",
       "  subbrandId  brandId advertiserListId brandListId    adSpotId researchDate  \\\n",
       "0    1081656  1054587              954      674985  6076222304   2024-12-20   \n",
       "\n",
       "   SalesRtgPer  StandSalesRtgPer  Quantity  ConsolidatedCostRUB  \n",
       "0     0.236532          0.236532       1.0              18730.0  "
      ]
     },
     "execution_count": 75,
     "metadata": {},
     "output_type": "execute_result"
    }
   ],
   "source": [
    "df.head(1)"
   ]
  },
  {
   "cell_type": "code",
   "execution_count": 77,
   "id": "e1155e96-336e-4b23-a1dc-8c9afb5236a8",
   "metadata": {},
   "outputs": [
    {
     "data": {
      "text/html": [
       "<div>\n",
       "<style scoped>\n",
       "    .dataframe tbody tr th:only-of-type {\n",
       "        vertical-align: middle;\n",
       "    }\n",
       "\n",
       "    .dataframe tbody tr th {\n",
       "        vertical-align: top;\n",
       "    }\n",
       "\n",
       "    .dataframe thead th {\n",
       "        text-align: right;\n",
       "    }\n",
       "</style>\n",
       "<table border=\"1\" class=\"dataframe\">\n",
       "  <thead>\n",
       "    <tr style=\"text-align: right;\">\n",
       "      <th></th>\n",
       "      <th>subbrandId</th>\n",
       "    </tr>\n",
       "  </thead>\n",
       "  <tbody>\n",
       "    <tr>\n",
       "      <th>0</th>\n",
       "      <td>1081656</td>\n",
       "    </tr>\n",
       "  </tbody>\n",
       "</table>\n",
       "</div>"
      ],
      "text/plain": [
       "  subbrandId\n",
       "0    1081656"
      ]
     },
     "execution_count": 77,
     "metadata": {},
     "output_type": "execute_result"
    }
   ],
   "source": [
    "df[['subbrandId']].drop_duplicates()"
   ]
  },
  {
   "cell_type": "code",
   "execution_count": null,
   "id": "72731b8e-2ee9-4880-8e58-b9d0c5b4b7c2",
   "metadata": {},
   "outputs": [],
   "source": [
    "df['ConsolidatedCostRUB'].sum()"
   ]
  },
  {
   "cell_type": "code",
   "execution_count": null,
   "id": "f0c90693-73fe-4364-95f1-693142cb74f8",
   "metadata": {},
   "outputs": [],
   "source": []
  },
  {
   "cell_type": "code",
   "execution_count": 1,
   "id": "824a27fe-607e-4e36-8a35-e1b2adc4ce19",
   "metadata": {},
   "outputs": [
    {
     "name": "stdout",
     "output_type": "stream",
     "text": [
      "2022-02-10\n"
     ]
    }
   ],
   "source": [
    "import datetime\n",
    "\n",
    "launch_date = datetime.date(day=10, month=2, year=2022)\n",
    "print(launch_date)"
   ]
  },
  {
   "cell_type": "code",
   "execution_count": 2,
   "id": "e29820e2-e578-4d7c-803d-68cb999d2879",
   "metadata": {},
   "outputs": [
    {
     "name": "stdout",
     "output_type": "stream",
     "text": [
      "2022-03-24\n"
     ]
    }
   ],
   "source": [
    "some_future = launch_date + datetime.timedelta(days=42)\n",
    "print(some_future)"
   ]
  }
 ],
 "metadata": {
  "kernelspec": {
   "display_name": "Python 3 (ipykernel)",
   "language": "python",
   "name": "python3"
  },
  "language_info": {
   "codemirror_mode": {
    "name": "ipython",
    "version": 3
   },
   "file_extension": ".py",
   "mimetype": "text/x-python",
   "name": "python",
   "nbconvert_exporter": "python",
   "pygments_lexer": "ipython3",
   "version": "3.11.7"
  }
 },
 "nbformat": 4,
 "nbformat_minor": 5
}
