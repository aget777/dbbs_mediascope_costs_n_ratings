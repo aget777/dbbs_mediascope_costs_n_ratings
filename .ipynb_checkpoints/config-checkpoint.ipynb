{
 "cells": [
  {
   "cell_type": "code",
   "execution_count": 1,
   "id": "fdc8e8b4-f23f-406a-b12e-6a39c53e30c0",
   "metadata": {},
   "outputs": [],
   "source": [
    "import os\n",
    "from datetime import datetime\n",
    "\n",
    "\n",
    "\n",
    "# моя БД, в которую сохраняем кастомные распарсенные данные\n",
    "host_mssql = 'REGRU-54856\\MSSQLSERVER01'\n",
    "port_mssql = '1433'\n",
    "\n",
    "# название БД  MSSQL\n",
    "db_name = 'test_media_costs' #'test_media_costs' #'mediascope_dbbs_alfa'\n",
    "\n",
    "# указываем параметры подключения к БД Медиаскоп - МедиаИнвестиции \n",
    "host_investments = 'ttk.igronik.ru'\n",
    "investments_db_name = 'Media'\n",
    "\n",
    "# гугл почта, на которой хранится файл с чисткой\n",
    "gmail = 'analytics.igronik@gmail.com'\n",
    "\n",
    "# указываем путь к основной папке с доступами\n",
    "cred_path = r'C:\\Users\\o.bogomolov\\Desktop\\Jupyter_notebook\\42_02_mediascope_costs_n_ratings\\cred'\n",
    "# токен гугл\n",
    "credentials_file = 'premium-ember-449909-c3-c3a505f0a5e7.json'\n",
    "service = os.path.join(cred_path, credentials_file)\n",
    "\n",
    "# ссылка на словарь чистки в формате CSV\n",
    "full_cleaning_link = 'https://docs.google.com/spreadsheets/d/e/2PACX-1vQ3JNEHjqyytJxoeULUIQfBA1w5t2qaj9NjTEukc_TUro_5TQGTFq20_ZKfFM0L01hyCW0RHYWN3EW7/pub?gid=1236648386&single=true&output=csv'\n",
    "\n",
    "# вот этот гугл докс \n",
    "google_docs_link = 'https://docs.google.com/spreadsheets/d/1LHh-keIMwesQaEbBvkv-fQ1evvxB-e1XCGPyi0y4Z08/edit?usp=sharing'\n",
    "# название листа, на котрый выгружаем новые объявления\n",
    "new_ads_sheet = 'new_ads_tv_index'\n",
    "\n",
    "# ссылка в формате CSV на общую таблицу дисконтов по всем типам медиа - одна для всех проектов\n",
    "discounts_link = 'https://docs.google.com/spreadsheets/d/e/2PACX-1vTeV7y_TRGzF1gZvlyz43hhtYq_v_-9URsPVT-TdoGLebYZcLHgH83EAzqCAj1OhN9wHfFLMu3_DSzz/pub?gid=0&single=true&output=csv'"
   ]
  },
  {
   "cell_type": "code",
   "execution_count": 2,
   "id": "e3a6feea-28e3-4cc4-8155-db9f0db99e45",
   "metadata": {},
   "outputs": [],
   "source": [
    "\"\"\"\n",
    "создаем функцию, чтобы забрать данные для подключения из текстового файла\n",
    "\"\"\"\n",
    "\n",
    "def get_cred_dict(file_path, file_name):\n",
    "    dict = {}\n",
    "    creds = open(os.path.join(file_path, file_name), encoding='utf-8').read()\n",
    "    for text in creds.split('\\n'):\n",
    "        content = text.split(': ')\n",
    "        dict[content[0]] = content[1]\n",
    "\n",
    "    return dict"
   ]
  },
  {
   "cell_type": "code",
   "execution_count": 3,
   "id": "2560d166-f28f-485e-8f20-47a277884b9f",
   "metadata": {},
   "outputs": [],
   "source": [
    "db_mssql_file = 'db_mssql_creds.txt'\n",
    "db_mssql_dict = get_cred_dict(cred_path, db_mssql_file)\n",
    "\n",
    "db_mssql_login = db_mssql_dict['login']\n",
    "db_mssql_pass = db_mssql_dict['pass']"
   ]
  },
  {
   "cell_type": "code",
   "execution_count": 4,
   "id": "b69ea5c2-1422-4abe-844a-a787d8e69d06",
   "metadata": {},
   "outputs": [],
   "source": [
    "db_investments_file = 'db_invetments_creds.txt'\n",
    "db_investments_dict = get_cred_dict(cred_path, db_investments_file)\n",
    "\n",
    "db_investments_login = db_investments_dict['login']\n",
    "db_investments_pass = db_investments_dict['pass']\n",
    "\n",
    "conn_lst = [host_investments, port_mssql, db_investments_login, db_investments_pass]"
   ]
  },
  {
   "cell_type": "code",
   "execution_count": 4,
   "id": "7a8cc490-7259-40a2-8036-14df6ae59a55",
   "metadata": {},
   "outputs": [],
   "source": [
    "\"\"\"\n",
    "Функция для того, чтобы объеденить все элементы списка в одну строку\n",
    "это нужно для условий фильтрации в условиях запроса TV_index\n",
    "\"\"\"\n",
    "\n",
    "def get_lst_to_str(lst):\n",
    "    return ', '.join(str(elem) for elem in lst)"
   ]
  },
  {
   "cell_type": "code",
   "execution_count": 5,
   "id": "ab045570-fe53-4e9c-b72f-db34215559e0",
   "metadata": {},
   "outputs": [],
   "source": [
    "\"\"\"\n",
    "Здесь передаем список ИД для фильтрации по ad_filter \n",
    "Услоия этого фильтра представлены в строке ниже\n",
    "\"\"\"\n",
    "\n",
    "article_lev_2_id_lst = [2277, 2272, 3972, -11, -126]\n",
    "article_lev_2_id_str = get_lst_to_str(article_lev_2_id_lst)"
   ]
  },
  {
   "cell_type": "code",
   "execution_count": null,
   "id": "a4fc0bdd-1b9e-43b5-b5e8-ad004ae0c3d1",
   "metadata": {},
   "outputs": [],
   "source": []
  },
  {
   "cell_type": "code",
   "execution_count": 2,
   "id": "2bfe4e55-59f4-4e90-aada-9005253ff1e0",
   "metadata": {},
   "outputs": [],
   "source": [
    "\"\"\"\n",
    "Медиа для загрузки\n",
    "Словарь типов медиа, которые используем для загрузки статистики из Медиаскоп Инвестиции\n",
    "здесь указываем только те медиа, по которым НУЖНА статистика\n",
    "ключ - это короткое название медиа в БД медиаскоп (оно подставляется в таблицы справочники и факты)\n",
    "значение - это длинное название медиа - оно используется в нашей БД mssql \n",
    "- подставляется в название справочников и фактов\n",
    "- используется для связи с таблицей Дисконтов и Чистки\n",
    "# {'tv': 'tv', 'ra': 'radio', 'od': 'outdoor', 'pr': 'press'}\n",
    "\"\"\"\n",
    "\n",
    "media_type_dict = {'tv': 'tv', 'ra': 'radio'} "
   ]
  },
  {
   "cell_type": "code",
   "execution_count": null,
   "id": "ec5b207e-4c43-4b0c-bcbf-9b9d5cb8f2f3",
   "metadata": {},
   "outputs": [],
   "source": [
    "\"\"\"\n",
    "Словарь типов ВСЕХ медиа из Медиаскоп Инвестиции\n",
    "здесь указываем все медиа для создания пустых таблиц в БД при создании нового проекта\n",
    "ключ - это короткое название медиа в БД медиаскоп (оно подставляется в таблицы справочники и факты)\n",
    "значение - это длинное название медиа - оно используется в нашей БД mssql \n",
    "- подставляется в название справочников и фактов\n",
    "- используется для связи с таблицей Дисконтов и Чистки\n",
    "\n",
    "\"\"\"\n",
    "\n",
    "media_type_full_dict = {'tv': 'tv', 'ra': 'radio', 'pr': 'press', 'od': 'outdoor'}"
   ]
  },
  {
   "cell_type": "code",
   "execution_count": 6,
   "id": "172a1d72-01c8-43c3-a7d9-766ff1149088",
   "metadata": {},
   "outputs": [],
   "source": [
    "\"\"\"\n",
    "Здесь прописываем логические условия ad_filter \n",
    "Они применяются для получения статистики в отчетах Simple и Buying\n",
    "\"\"\"\n",
    "\n",
    "nat_tv_ad_filter = f'articleLevel2Id IN ({article_lev_2_id_str}) and adIssueStatusId = R and adDistributionType IN (N,O)'"
   ]
  },
  {
   "cell_type": "code",
   "execution_count": 7,
   "id": "aad82b40-1d90-4067-81fb-885776691ec1",
   "metadata": {},
   "outputs": [],
   "source": [
    "\"\"\"\n",
    "создаем фильтр, который будем применять во воложенном запросе для фильтрации ВСЕХ ТАБЛИЦ по ВСЕМ ИСТОЧНИКАМ\n",
    "этот фильтр используем в ТВ, Радио, ООН, Пресса\n",
    "Префикс для фильтруемой таблицы задан с запасом = t10\n",
    "\"\"\"\n",
    "\n",
    "main_filter_str = f't10.sid2 in ({article_lev_2_id_str})'"
   ]
  },
  {
   "cell_type": "code",
   "execution_count": 9,
   "id": "f84ae838-fd4c-473a-8380-87fb9d5e10b2",
   "metadata": {},
   "outputs": [],
   "source": [
    "\"\"\"\n",
    "Справочник Объявлений с собственными названиями\n",
    "сотрудники ведут гугл докс с чисткой\n",
    "в этом же файле добавили новые поля с собственными группировками\n",
    "загружаем эту кастомную таблицу в БД, чтобы потом использовать в дашборде\n",
    "\"\"\"\n",
    "\n",
    "custom_ad_dict = 'custom_ad_dict'\n",
    "\n",
    "custom_ad_dict_vars_list = [\n",
    "            'media_key_id nvarchar(40)',\n",
    "            'media_type nvarchar(10)',\n",
    "    'media_type_long nvarchar(40)',\n",
    "            'ad_id int',\n",
    "            # 'advertiser_list nvarchar(150)',\n",
    "            # 'brand_list nvarchar(300)',\n",
    "            # 'subbrand_list nvarchar(300)',\n",
    "            # 'model_list nvarchar(500)',\n",
    "            # 'article_list_2 nvarchar(300)',\n",
    "            # 'article_list_3 nvarchar(400)',\n",
    "            # 'article_list_4 nvarchar(500)',\n",
    "            # 'ad_name nvarchar(200)',\n",
    "            # 'ad_description nvarchar(500)',\n",
    "            # 'first_issue_date nvarchar(10)',\n",
    "            'clip_type_region nvarchar(100)',\n",
    "            'advertiser_type nvarchar(20)',\n",
    "            'advertiser_main nvarchar(100)',\n",
    "            'brand_main nvarchar(150)',\n",
    "            'competitor nvarchar(20)',\n",
    "            'category nvarchar(50)',\n",
    "            'category_general nvarchar(50)',\n",
    "            'include_exclude nvarchar(15)',\n",
    "            'delivery nvarchar(30)',\n",
    "            'product_category nvarchar(50)',\n",
    "            'segment_full nvarchar(150)',\n",
    "            'segment_level1 nvarchar(50)',\n",
    "            'segment_level2 nvarchar(75)',\n",
    "            'segment_level3 nvarchar(75)',\n",
    "            'segment_general nvarchar(90)',\n",
    "            'cleaning_flag tinyint'\n",
    "]\n",
    "\n",
    "custom_ad_dict_int_lst = ['ad_id', 'cleaning_flag']"
   ]
  }
 ],
 "metadata": {
  "kernelspec": {
   "display_name": "Python 3 (ipykernel)",
   "language": "python",
   "name": "python3"
  },
  "language_info": {
   "codemirror_mode": {
    "name": "ipython",
    "version": 3
   },
   "file_extension": ".py",
   "mimetype": "text/x-python",
   "name": "python",
   "nbconvert_exporter": "python",
   "pygments_lexer": "ipython3",
   "version": "3.11.7"
  }
 },
 "nbformat": 4,
 "nbformat_minor": 5
}
